{
 "cells": [
  {
   "cell_type": "code",
   "execution_count": 2,
   "metadata": {},
   "outputs": [
    {
     "name": "stdout",
     "output_type": "stream",
     "text": [
      "Date\n",
      "<class 'str'>\n",
      "Location\n",
      "<class 'str'>\n",
      "MinTemp\n",
      "<class 'numpy.float64'>\n",
      "MaxTemp\n",
      "<class 'numpy.float64'>\n",
      "Rainfall\n",
      "<class 'numpy.float64'>\n",
      "Evaporation\n",
      "<class 'numpy.float64'>\n",
      "Sunshine\n",
      "<class 'numpy.float64'>\n",
      "WindGustDir\n",
      "<class 'str'>\n",
      "WindGustSpeed\n",
      "<class 'numpy.float64'>\n",
      "WindDir9am\n",
      "<class 'str'>\n",
      "WindDir3pm\n",
      "<class 'str'>\n",
      "WindSpeed9am\n",
      "<class 'numpy.float64'>\n",
      "WindSpeed3pm\n",
      "<class 'numpy.int64'>\n",
      "Humidity9am\n",
      "<class 'numpy.int64'>\n",
      "Humidity3pm\n",
      "<class 'numpy.int64'>\n",
      "Pressure9am\n",
      "<class 'numpy.float64'>\n",
      "Pressure3pm\n",
      "<class 'numpy.float64'>\n",
      "Cloud9am\n",
      "<class 'numpy.int64'>\n",
      "Cloud3pm\n",
      "<class 'numpy.int64'>\n",
      "Temp9am\n",
      "<class 'numpy.float64'>\n",
      "Temp3pm\n",
      "<class 'numpy.float64'>\n",
      "RainToday\n",
      "<class 'str'>\n",
      "RISK_MM\n",
      "<class 'numpy.float64'>\n",
      "RainTomorrow\n",
      "<class 'str'>\n",
      "None\n"
     ]
    }
   ],
   "source": [
    "import pandas as pd\n",
    "df = pd.read_csv('weather.csv')\n",
    "\n",
    "lis=df.columns\n",
    "for i in lis:    \n",
    "    if df[i].isnull()[1]==True:\n",
    "        print(df[i].sum()) \n",
    "        \n",
    "df.fillna(0)\n",
    "\n",
    "df1=pd.read_csv('weather.csv')\n",
    "\n",
    "df1.fillna(df1.mean())\n",
    "\n",
    "for i in df1.columns:\n",
    "    print(i)\n",
    "    print(type(df1[i][0]))\n",
    "    \n",
    "colist=list(df.columns)\n",
    "ser=None\n",
    "for i in colist:\n",
    "    if i=='temperature':\n",
    "        ser=df[i]\n",
    "        \n",
    "print(ser)"
   ]
  },
  {
   "cell_type": "code",
   "execution_count": null,
   "metadata": {},
   "outputs": [],
   "source": []
  }
 ],
 "metadata": {
  "kernelspec": {
   "display_name": "Python 3",
   "language": "python",
   "name": "python3"
  },
  "language_info": {
   "codemirror_mode": {
    "name": "ipython",
    "version": 3
   },
   "file_extension": ".py",
   "mimetype": "text/x-python",
   "name": "python",
   "nbconvert_exporter": "python",
   "pygments_lexer": "ipython3",
   "version": "3.6.5"
  }
 },
 "nbformat": 4,
 "nbformat_minor": 1
}
