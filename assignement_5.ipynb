{
 "cells": [
  {
   "cell_type": "code",
   "execution_count": null,
   "metadata": {
    "collapsed": true
   },
   "outputs": [],
   "source": [
    "import pandas as pd\n",
    "df = pd.read_csv('weather.csv')\n",
    "\n",
    "lis=df.columns\n",
    "for i in lis:    \n",
    "    if df[i].isnull()[1]==True:\n",
    "        print(df[i].sum()) \n",
    "        \n",
    "df.fillna(0)\n",
    "\n",
    "df1=pd.read_csv('weather.csv')\n",
    "\n",
    "df1.fillna(df1.mean())\n",
    "\n",
    "for i in df1.columns:\n",
    "    print(i)\n",
    "    print(type(df1[i][0]))\n",
    "    \n",
    "colist=list(df.columns)\n",
    "ser=None\n",
    "for i in colist:\n",
    "    if i=='temperature':\n",
    "        ser=df[i]\n",
    "        \n",
    "print(ser)"
   ]
  }
 ],
 "metadata": {
  "kernelspec": {
   "display_name": "Python 2",
   "language": "python",
   "name": "python2"
  },
  "language_info": {
   "codemirror_mode": {
    "name": "ipython",
    "version": 2
   },
   "file_extension": ".py",
   "mimetype": "text/x-python",
   "name": "python",
   "nbconvert_exporter": "python",
   "pygments_lexer": "ipython2",
   "version": "2.7.6"
  }
 },
 "nbformat": 4,
 "nbformat_minor": 0
}
